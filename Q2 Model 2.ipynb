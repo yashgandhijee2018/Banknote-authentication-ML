{
  "nbformat": 4,
  "nbformat_minor": 0,
  "metadata": {
    "colab": {
      "name": "Q2 Model 2.ipynb",
      "provenance": []
    },
    "kernelspec": {
      "name": "python3",
      "display_name": "Python 3"
    }
  },
  "cells": [
    {
      "cell_type": "code",
      "metadata": {
        "id": "LdnFZxTluGJp"
      },
      "source": [
        "import numpy as np\r\n",
        "import pandas as pd\r\n",
        "import matplotlib.pyplot as plt\r\n",
        "\r\n",
        "import matplotlib.patches as mpatches"
      ],
      "execution_count": null,
      "outputs": []
    },
    {
      "cell_type": "markdown",
      "metadata": {
        "id": "rhzZV34TwtTc"
      },
      "source": [
        "Reading data from drive and converting it to csv format"
      ]
    },
    {
      "cell_type": "code",
      "metadata": {
        "id": "-SYXUqgmuICz"
      },
      "source": [
        "dataset=pd.read_csv(\"/content/drive/MyDrive/ML Data/data_banknote_authentication.txt\")\r\n",
        "dataset.to_csv(\"/content/drive/MyDrive/ML Data/data_banknote_authentication.csv\",index=None)"
      ],
      "execution_count": null,
      "outputs": []
    },
    {
      "cell_type": "code",
      "metadata": {
        "colab": {
          "base_uri": "https://localhost:8080/"
        },
        "id": "3dYq_rHXwfDA",
        "outputId": "370415cf-5fa7-4b31-f7f2-80655bd614bf"
      },
      "source": [
        "print(dataset)"
      ],
      "execution_count": null,
      "outputs": [
        {
          "output_type": "stream",
          "text": [
            "       3.6216    8.6661  -2.8073  -0.44699  0\n",
            "0     4.54590   8.16740  -2.4586  -1.46210  0\n",
            "1     3.86600  -2.63830   1.9242   0.10645  0\n",
            "2     3.45660   9.52280  -4.0112  -3.59440  0\n",
            "3     0.32924  -4.45520   4.5718  -0.98880  0\n",
            "4     4.36840   9.67180  -3.9606  -3.16250  0\n",
            "...       ...       ...      ...       ... ..\n",
            "1366  0.40614   1.34920  -1.4501  -0.55949  1\n",
            "1367 -1.38870  -4.87730   6.4774   0.34179  1\n",
            "1368 -3.75030 -13.45860  17.5932  -2.77710  1\n",
            "1369 -3.56370  -8.38270  12.3930  -1.28230  1\n",
            "1370 -2.54190  -0.65804   2.6842   1.19520  1\n",
            "\n",
            "[1371 rows x 5 columns]\n"
          ],
          "name": "stdout"
        }
      ]
    },
    {
      "cell_type": "code",
      "metadata": {
        "id": "EZJZFa_hzkcx"
      },
      "source": [
        "num_folds = 3\r\n",
        "num_samples = 1371\r\n",
        "num_features = 5\r\n",
        "num_classes = 2\r\n",
        "num_runs = 5\r\n",
        "lr = 2\r\n",
        "list_ratio = [.01,.02, .05 ,.1 ,.625, 1] "
      ],
      "execution_count": null,
      "outputs": []
    },
    {
      "cell_type": "code",
      "metadata": {
        "id": "2Fg-HbHb37oX"
      },
      "source": [
        "# function to train data using guassian naive bayes\r\n",
        "def guassian_naive_bayes():\r\n",
        "\r\n",
        "\t# reading input, storing it in array nad initialising variables\r\n",
        "\tinp = dataset\r\n",
        "\tdata = np.array(inp)\r\n",
        "\tmeans = means_avg = np.zeros((np.size(list_ratio),num_classes,num_features-1))\r\n",
        "\tvariance = variance_avg = np.zeros((np.size(list_ratio), num_classes,num_features-1))\r\n",
        "\tmeans[:,:] = 0\r\n",
        "\tvariance[:,:] = 0\r\n",
        "\taccuracy = np.zeros((1,np.size(list_ratio)))\r\n",
        "\r\n",
        "\t# calculating indices for validate data and training data\t\t\r\n",
        "\tvalidate_index2 = (int)((num_samples/num_folds)-1)\r\n",
        "\tvalidate_index1 = (int)(validate_index2 - (num_samples/num_folds) + 1)\r\n",
        "\r\n",
        "\t# extracting validate data and training data\r\n",
        "\ttraining_data = np.vstack((data[:(np.absolute(validate_index1-1)),:],data[(validate_index2+1):,:]))\r\n",
        "\tvalidate_data = data[validate_index1:validate_index2, :]\r\n",
        "\r\n",
        "\t# looping over the list of training sampling ratios\r\n",
        "\tfor ratio in range(np.size(list_ratio)):\r\n",
        "\r\n",
        "\t\ttraining_set = np.zeros(((int)(list_ratio[ratio]*training_data.shape[0]),(num_features)))\r\n",
        "\r\n",
        "\t\t# looping for no:of runs\r\n",
        "\t\tfor runs in range(0,num_runs):\r\n",
        "\t\t\tmeans[ratio,:] = 0\r\n",
        "\t\t\tvariance[ratio,:] = 0\r\n",
        "\r\n",
        "\t\t\t# extracting random rows from training set for each ratio\r\n",
        "\t\t\ttraining_set[:,:] = training_data[np.random.choice(training_data.shape[0],size = (int)(list_ratio[ratio]*training_data.shape[0]) , replace=False), :]\r\n",
        "\t\t\t\r\n",
        "\t\t\t# calculating guassian means for the independent parameters of features\r\n",
        "\t\t\tfor j in range(0,num_classes):\r\n",
        "\t\t\t\tfor k in range(0,num_features-1):\r\n",
        "\t\t\t\t\tmeans[ratio,j,k] = gnb_mean_esti(j,k,training_set)\r\n",
        "\t\t\tmeans_avg[ratio,j,k] += means[ratio,j,k]\r\n",
        "\r\n",
        "\t\t\t# calculating guassian variances for independent parameters of features\r\n",
        "\t\t\tfor j in range(0,2):\r\n",
        "\t\t\t\tfor k in range(0,4):\r\n",
        "\t\t\t\t\tvariance[ratio,j,k] = gnb_var_esti(j,k,training_set,means[ratio,:,:])\r\n",
        "\t\t\t\tvariance_avg[ratio,j,k] += variance[ratio,j,k]\r\n",
        "\r\n",
        "\t\t\t# validating the parameters and finding accuracy for each sampling ratio\t\r\n",
        "\t\t\taccuracy[0,ratio] += gnb_validate(validate_data,means[ratio,:,:],variance[ratio,:,:])\r\n",
        "\t\t\r\n",
        "\t\t# averaging the accuracies\r\n",
        "\t\taccuracy[0,ratio] /= num_runs\r\n",
        "\t\tprint(accuracy[0,ratio])\r\n",
        "\r\n",
        "\treturn (accuracy,means_avg,variance_avg)"
      ],
      "execution_count": null,
      "outputs": []
    },
    {
      "cell_type": "code",
      "metadata": {
        "id": "Iz8-eqXX7c0q"
      },
      "source": [
        "# validate function which takes validation data, guassian means and variances and return accuracy\r\n",
        "def gnb_validate(validate_data,means,variance):\r\n",
        "\t\r\n",
        "\tnum_pos_samples = 0\r\n",
        "\r\n",
        "\t# finding no:of positive nad negative samples\r\n",
        "\tfor i in range(0,validate_data.shape[0]):\t\t\r\n",
        "\t\tnum_pos_samples += validate_data[i,num_features-1]\r\n",
        "\tnum_neg_samples = validate_data.shape[0]-num_pos_samples\r\n",
        "\r\n",
        "\t# finding bernoulli parameter of class variable\r\n",
        "\tpy0 = num_neg_samples/(num_neg_samples+num_pos_samples)\r\n",
        "\tpy1 = 1-py0\r\n",
        "\tnum_crct_pred = 0\t\r\n",
        "\r\n",
        "\t# looping over the entire validation data\r\n",
        "\tfor length in range(0,validate_data.shape[0]):\r\n",
        "\t\t# variables for likelihood probability estimation\r\n",
        "\t\tprod_pxy0 = prod_pxy1 = 1\r\n",
        "\r\n",
        "\t\t# finding the likelihood probabilities\r\n",
        "\t\tfor i in range(0,num_features-1):\r\n",
        "\t\t\tprod_pxy0 *= calculate_guassian(validate_data[length,i],means[0,i],variance[0,i])\r\n",
        "\t\t\tprod_pxy1 *= calculate_guassian(validate_data[length,i],means[1,i],variance[1,i])\r\n",
        "\t\t\r\n",
        "\t\t# finding the posterior probabilities, predicting class and comparing with actual value of class to find accuracy\r\n",
        "\t\tpy0x = (prod_pxy0*py0)/(prod_pxy0*py0 + prod_pxy1*py1)\r\n",
        "\t\tif py0x <= 0.5:\r\n",
        "\t\t\tif validate_data[length,4] == 1:\r\n",
        "\t\t\t\tnum_crct_pred += 1\r\n",
        "\t\telse :\r\n",
        "\t\t\tif validate_data[length,4] == 0:\r\n",
        "\t\t\t\tnum_crct_pred += 1\r\n",
        "\r\n",
        "\taccuracy = num_crct_pred/(validate_data.shape[0])\r\n",
        "\r\n",
        "\treturn accuracy"
      ],
      "execution_count": null,
      "outputs": []
    },
    {
      "cell_type": "code",
      "metadata": {
        "id": "_tF17Bel7elG"
      },
      "source": [
        "# function to return the guassian probability\r\n",
        "def calculate_guassian(x,mean,variance):\r\n",
        "\tresult = (np.exp(-(np.power(x-mean,2)/variance)))/(np.sqrt(2*3.14*variance))\r\n",
        "\treturn result"
      ],
      "execution_count": null,
      "outputs": []
    },
    {
      "cell_type": "code",
      "metadata": {
        "id": "NUzcuaJ77hfo"
      },
      "source": [
        "# function for estimating the means of features\r\n",
        "def gnb_mean_esti(class_type, feature,training_set):\r\n",
        "\tmean = 0\r\n",
        "\tnum_pos_samples = 0\r\n",
        "\t\r\n",
        "\t# extracing no:of positive and negative samples to find means\r\n",
        "\tfor i in range(0,training_set.shape[0]):\t\t\r\n",
        "\t\tnum_pos_samples += training_set[i,num_features-1]\t\t\r\n",
        "\r\n",
        "\t\tif training_set[i,num_features-1] == class_type:\r\n",
        "\t\t\tmean += training_set[i,feature]\r\n",
        "\r\n",
        "\t# checking class type and calculating means\r\n",
        "\tif (class_type):\r\n",
        "\t\tmean = mean/num_pos_samples\r\n",
        "\telse:\r\n",
        "\t\tmean = mean/(training_set.shape[0]-num_pos_samples)\r\n",
        "\treturn mean"
      ],
      "execution_count": null,
      "outputs": []
    },
    {
      "cell_type": "code",
      "metadata": {
        "id": "So0L59Be7jvb"
      },
      "source": [
        "# function for estimating variances of features \r\n",
        "def gnb_var_esti(class_type,feature,training_set,means):\r\n",
        "\tvariance = 0\r\n",
        "\tnum_pos_samples = 0\r\n",
        "\t\r\n",
        "\t# extracing no:of positive and negative samples to find variances\r\n",
        "\tfor i in range(0,training_set.shape[0]):\r\n",
        "\t\tnum_pos_samples += training_set[i,num_features-1]\r\n",
        "\r\n",
        "\t\tif training_set[i,num_features-1] == class_type:\r\n",
        "\t\t\tvariance += np.power((training_set[i,feature]-means[class_type,feature]),2)\t\r\n",
        "\t\r\n",
        "\t# checking class type and calculating unbiased variances\r\n",
        "\tif (class_type):\r\n",
        "\t\tvariance = variance/(num_pos_samples-1)\r\n",
        "\telse:\r\n",
        "\t\tvariance = variance/((training_set.shape[0]-num_pos_samples)-1)\t\r\n",
        "\r\n",
        "\treturn variance"
      ],
      "execution_count": null,
      "outputs": []
    },
    {
      "cell_type": "code",
      "metadata": {
        "id": "SKgu3cbW7qUk"
      },
      "source": [
        "gnb_accuracy = np.array(np.size(list_ratio))  # to store the accuracy of gaussian naive bayes model"
      ],
      "execution_count": null,
      "outputs": []
    },
    {
      "cell_type": "code",
      "metadata": {
        "id": "wOyhnbiY78Aq"
      },
      "source": [
        "gnb_means = np.zeros((np.size(list_ratio),num_classes,num_features-1))\t# to store the guassian means of gaussian naive bayes model\r\n",
        "gnb_variance = np.zeros((np.size(list_ratio),num_classes,num_features-1))\t# to store the guassian variances of gaussian naive bayes model"
      ],
      "execution_count": null,
      "outputs": []
    },
    {
      "cell_type": "code",
      "metadata": {
        "colab": {
          "base_uri": "https://localhost:8080/"
        },
        "id": "kc_FjLEA7-X7",
        "outputId": "602c88c4-3b7c-4c8a-aa85-301cada74efe"
      },
      "source": [
        "(gnb_accuracy,gnb_means,gnb_variance) = guassian_naive_bayes()\r\n",
        "# converting accuracies to percentage scale\r\n",
        "gnb_accuracy *= 100\r\n",
        "gnb_accuracy = np.reshape(gnb_accuracy,6)"
      ],
      "execution_count": null,
      "outputs": [
        {
          "output_type": "stream",
          "text": [
            "/usr/local/lib/python3.7/dist-packages/ipykernel_launcher.py:17: RuntimeWarning: invalid value encountered in double_scalars\n"
          ],
          "name": "stderr"
        },
        {
          "output_type": "stream",
          "text": [
            "1.0\n",
            "1.0\n",
            "1.0\n",
            "1.0\n",
            "1.0\n",
            "1.0\n"
          ],
          "name": "stdout"
        }
      ]
    },
    {
      "cell_type": "code",
      "metadata": {
        "colab": {
          "base_uri": "https://localhost:8080/"
        },
        "id": "fqcUVhul8FGL",
        "outputId": "f825f172-e759-4588-fdde-fdc6890a7c4d"
      },
      "source": [
        "print(\"\\n means of gnb model for different ratios:\\n\",gnb_means, \"\\n variances of gnb model:\\n\", gnb_variance)\r\n",
        "print(\"\\n accuracies of gnb model for different ratios:\\n\",gnb_accuracy)"
      ],
      "execution_count": null,
      "outputs": [
        {
          "output_type": "stream",
          "text": [
            "\n",
            " means of gnb model for different ratios:\n",
            " [[[ 3.5127      2.9073      1.0579      0.40774   ]\n",
            "  [-1.66389125  1.1815425  -0.50409837 -2.6448135 ]]\n",
            "\n",
            " [[ 2.1927      7.44215833 -0.85911667 -2.2039    ]\n",
            "  [-1.06363667 -0.36420917  0.46526833 -1.545268  ]]\n",
            "\n",
            " [[ 2.04038427  5.27099927  0.2367136  -1.27267627]\n",
            "  [-2.19953497 -1.7573095   3.3247836  -2.92232867]]\n",
            "\n",
            " [[ 1.88080607  3.87389929  1.537951   -1.01531259]\n",
            "  [-1.9939771  -1.936465    3.08698308 -2.6365773 ]]\n",
            "\n",
            " [[ 2.38630179  3.90811733  0.94674433 -0.93279311]\n",
            "  [-1.83398495 -0.90479296  2.0656958  -2.45363262]]\n",
            "\n",
            " [[ 2.34807325  4.01158553  0.8924374  -1.02018651]\n",
            "  [-1.86844256 -0.99357612  2.14827101 -2.49328149]]] \n",
            " variances of gnb model:\n",
            " [[[        nan         nan         nan         nan]\n",
            "  [ 2.89980458 11.49574288  3.77097254 16.44860109]]\n",
            "\n",
            " [[11.5989264  16.35175249  5.98065033 18.07575697]\n",
            "  [ 1.53351408 15.65178151 13.96734124  5.7825458 ]]\n",
            "\n",
            " [[ 3.55496357 20.09406751  5.64580168  8.1001283 ]\n",
            "  [ 4.12895995 37.49936044 32.92914986 15.15496015]]\n",
            "\n",
            " [[ 4.68136251 28.0821941   6.69738448  9.54021757]\n",
            "  [ 3.65861377 33.12008334 33.84933572 12.29357577]]\n",
            "\n",
            " [[ 3.94764863 26.39919942  9.96809404  7.50146283]\n",
            "  [ 3.45634934 29.08461318 27.02761936 11.3842249 ]]\n",
            "\n",
            " [[ 3.92642114 26.58226201  9.73300557  8.26113107]\n",
            "  [ 3.53884798 29.21276835 27.68665431 11.69127867]]]\n",
            "\n",
            " accuracies of gnb model for different ratios:\n",
            " [100. 100. 100. 100. 100. 100.]\n"
          ],
          "name": "stdout"
        }
      ]
    },
    {
      "cell_type": "code",
      "metadata": {
        "colab": {
          "base_uri": "https://localhost:8080/",
          "height": 280
        },
        "id": "yJfCNiEq8bgA",
        "outputId": "6ffc1a56-f9d8-4ebe-da8a-343efecb9798"
      },
      "source": [
        "plt.plot(list_ratio,gnb_accuracy,color = 'orange' )\r\n",
        "plt.xlabel('training_sample_ratio')\r\n",
        "plt.ylabel('validation accuracy in percentage')\r\n",
        "orange_patch = mpatches.Patch(color='orange', label='guassian naive bayes')\r\n",
        "plt.legend(handles=[orange_patch])\r\n",
        "plt.show()"
      ],
      "execution_count": null,
      "outputs": [
        {
          "output_type": "display_data",
          "data": {
            "image/png": "[encoded data removed]",
            "text/plain": [
              "<Figure size 432x288 with 1 Axes>"
            ]
          },
          "metadata": {
            "tags": [],
            "needs_background": "light"
          }
        }
      ]
    },
    {
      "cell_type": "code",
      "metadata": {
        "colab": {
          "base_uri": "https://localhost:8080/"
        },
        "id": "lcSkfxGq8kTN",
        "outputId": "2859016f-a15d-49fd-fd93-5ff9fbb6434b"
      },
      "source": [
        "rows = 613\r\n",
        "columns = num_features-1\r\n",
        "guassian_samples = np.zeros((rows,columns))\r\n",
        "means_guassian_samples = np.zeros((1,num_features-1))\r\n",
        "\r\n",
        "# taking the parameters obtained by training the data set with guassian naive bayes model and extracting random samples using numpy.random.normal\r\n",
        "for i in range(0,num_features-1):\r\n",
        "\ttemp = np.random.normal(gnb_means[5,1,i],np.sqrt(gnb_variance[5,1,i]),rows)\r\n",
        "\tguassian_samples[:,i] = temp\r\n",
        "\t# calculating means of randomly extracted samples using trained parameters\r\n",
        "\tmeans_guassian_samples[0,i] = np.mean(guassian_samples[:,i])\r\n",
        "\r\n",
        "np.savetxt('samples.csv',guassian_samples,delimiter=',',newline='\\n',header='GUASSIAN SAMPLES')\r\n",
        "\r\n",
        "print(\"\\n means obtained by training data set:\\n \",gnb_means[5,1,:], \"\\n means of guassian samples:\\n\", means_guassian_samples)"
      ],
      "execution_count": null,
      "outputs": [
        {
          "output_type": "stream",
          "text": [
            "\n",
            " means obtained by training data set:\n",
            "  [-1.86844256 -0.99357612  2.14827101 -2.49328149] \n",
            " means of guassian samples:\n",
            " [[-1.84843673 -0.99077598  2.18948268 -2.26537807]]\n"
          ],
          "name": "stdout"
        }
      ]
    },
    {
      "cell_type": "code",
      "metadata": {
        "colab": {
          "base_uri": "https://localhost:8080/"
        },
        "id": "8XRYcvR59EJd",
        "outputId": "431a9288-d55f-4a19-bc67-4b2cda17ec6f"
      },
      "source": [
        "x=pd.read_csv(\"/content/samples.csv\")\r\n",
        "print(x)"
      ],
      "execution_count": null,
      "outputs": [
        {
          "output_type": "stream",
          "text": [
            "                                # GUASSIAN SAMPLES\n",
            " 1.003695  5.526895  1.635975            -6.126618\n",
            "-1.038850  1.313449  12.166530           -1.678197\n",
            "-4.367953  2.559885 -2.032393             1.610537\n",
            "-3.106414 -5.096667  8.564504            -4.793493\n",
            "-3.175428  2.588412  4.399655            -2.953925\n",
            "...                                            ...\n",
            "-1.737697 -1.307156 -0.413392            -0.349214\n",
            "-6.430247 -3.452827 -2.263771            -2.161652\n",
            "-0.306513  0.280939 -5.978949             1.761091\n",
            "-3.220042 -3.949625  1.260494             0.914789\n",
            "-2.105869 -5.194006  2.001931            -3.975626\n",
            "\n",
            "[613 rows x 1 columns]\n"
          ],
          "name": "stdout"
        }
      ]
    },
    {
      "cell_type": "code",
      "metadata": {
        "id": "1jFqOB-Z9gdW"
      },
      "source": [
        ""
      ],
      "execution_count": null,
      "outputs": []
    }
  ]
}